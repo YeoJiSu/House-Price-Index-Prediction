{
 "cells": [
  {
   "cell_type": "markdown",
   "metadata": {},
   "source": [
    "### Import Library"
   ]
  },
  {
   "cell_type": "code",
   "execution_count": 1,
   "metadata": {},
   "outputs": [],
   "source": [
    "%matplotlib inline\n",
    "import matplotlib.pyplot as plt\n",
    "plt.rcParams['axes.unicode_minus'] = False\n",
    "import torch\n",
    "import pandas as pd\n",
    "import numpy as np\n",
    "from tqdm import tqdm\n",
    "from argparse import Namespace\n",
    "from torch.utils.data import Dataset, DataLoader\n",
    "from sklearn.metrics import mean_squared_error, mean_absolute_error\n",
    "\n",
    "import sys\n",
    "sys.path.insert(1, \"/Users/yeojisu/Documents/House-Price-Index-Prediction\")\n",
    "\n",
    "from utils.data_loader import *\n",
    "from config.config_US import *"
   ]
  },
  {
   "cell_type": "markdown",
   "metadata": {},
   "source": [
    "### Load Data"
   ]
  },
  {
   "cell_type": "code",
   "execution_count": 3,
   "metadata": {},
   "outputs": [],
   "source": [
    "target_df = load_target_data_us(TARGET_PATH)\n",
    "df = load_feature_data_us(FEATURE_PATH, FEATURE_COLUMN, TRAIN_DATE)\n",
    "df = pd.concat([df,target_df],axis = 1) \n",
    "for col in df.columns:\n",
    "    df[col] = pd.to_numeric(df[col], errors='coerce')\n",
    "df = df.dropna()\n",
    "\n",
    "date = 'Date'\n",
    "df = df.reset_index(names=date) \n",
    "df[date] = pd.to_datetime(df[date]) \n",
    "df.reset_index(drop=True, inplace=True)\n",
    "df.index.name = \"num\"\n"
   ]
  },
  {
   "cell_type": "markdown",
   "metadata": {},
   "source": [
    "### Choose Model: xPatch, CARD, Dlinear, Nlinear"
   ]
  },
  {
   "cell_type": "code",
   "execution_count": null,
   "metadata": {},
   "outputs": [],
   "source": [
    "\"\"\"\n",
    "    Must Choose Model\n",
    "    * DLinear\n",
    "    * NLinear\n",
    "    * xPatch\n",
    "    * CARD\n",
    "\"\"\"\n",
    "# from DLinear import Model\n",
    "from NLinear import Model\n",
    "# from xPatch import Model\n",
    "# from CARD import Model\n",
    "model_name = \"Nlinear\""
   ]
  },
  {
   "cell_type": "code",
   "execution_count": null,
   "metadata": {},
   "outputs": [],
   "source": [
    "### Experiment Setting\n",
    "window_size = WINDOW_SIZE\n",
    "forecast_size= FORECAST_HORIZON\n",
    "idx = df[df.Date == TEST_DATE].index[0]\n",
    "train_df = df[:idx]\n",
    "test_df = df[idx-(forecast_size+window_size):]\n",
    "test_df.reset_index(drop=True, inplace=True)\n",
    "test_df.index.name = \"num\"\n",
    "dir_path = \"/Users/yeojisu/Documents/HPI-Save/USA/Baseline/recent/\"\n",
    "version = f\"{forecast_size}month_{model_name}\"\n",
    "columns_to_use = FEATURE_COLUMN + target_df.columns.tolist()\n",
    "\n",
    "batch_size = 16\n",
    "epoch_ = 500\n",
    "lr = 0.001\n",
    "former_lr = 0.0005\n",
    "patience = 20  # easrly stopping\n",
    "\n",
    "configs = Namespace( # Convert configs dictionary to Namespace\n",
    "    # Dlinear, Nlinear\n",
    "    seq_len=window_size,  # Set minimum input length to 1\n",
    "    pred_len=forecast_size,\n",
    "    individual=False, \n",
    "    enc_in= len(columns_to_use), # feature_size\n",
    "    \n",
    "    # xPatch\n",
    "    ker_len=25,                         # Kernel size\n",
    "    patch_len = 3,                      # Length of each patch\n",
    "    stride = 2,                         # Patch interval\n",
    "    padding_patch = 'end',\n",
    "    revin = True,\n",
    "    ma_type = 'ema',\n",
    "    alpha = 0.3,                        # EMA coefficient\n",
    "    beta = 0.3,\n",
    "    \n",
    "    # CARD\n",
    "    patch_size = 3,\n",
    "    d_model = 128,                      # Hidden dimension of the model\n",
    "    dropout = 0.1,                      # Dropout rate\n",
    "    e_layers = 4,                       # Number of encoder layers\n",
    "    n_heads = 8,                        # Number of heads in multi-head attention\n",
    "    use_statistic = True,               # Whether to use statistical values\n",
    "    total_token_number = 3,             # Total number of tokens\n",
    "    d_ff = 256,                         # Dimension of the feedforward network\n",
    "    momentum = 0.1,                     # Momentum for batch normalization\n",
    "    dp_rank = 16,                       # Rank of dynamic projection\n",
    "    merge_size = 4,                     # Merge size\n",
    "    \n",
    ")"
   ]
  },
  {
   "cell_type": "code",
   "execution_count": null,
   "metadata": {},
   "outputs": [],
   "source": [
    "model = Model(configs=configs)\n",
    "criterion = torch.nn.MSELoss()\n",
    "optimizer = torch.optim.Adam(model.parameters(), lr=lr) # CARD -> former_lr\n",
    "\n",
    "# Prepare Dataset\n",
    "train_df_fe, test_df_fe, mean_, std_ = standardization(train_df, test_df, date, columns_to_use)\n",
    "    \n",
    "train_x, train_y, train_date = time_slide_df(train_df_fe, window_size, forecast_size, date, columns_to_use)\n",
    "test_x, test_y, test_date = time_slide_df(test_df_fe, window_size, forecast_size, date, columns_to_use)\n",
    "    \n",
    "# Prepare DataLoader \n",
    "train_ds = Data(train_x, train_y)\n",
    "test_ds = Data(test_x, test_y)"
   ]
  },
  {
   "cell_type": "markdown",
   "metadata": {},
   "source": [
    "### Train"
   ]
  },
  {
   "cell_type": "code",
   "execution_count": 146,
   "metadata": {},
   "outputs": [],
   "source": [
    "train_dl = DataLoader(train_ds, batch_size = batch_size, shuffle=False)\n",
    "test_dl  = DataLoader(test_ds,  batch_size = len(test_df), shuffle=False)\n",
    "# Train the model \n",
    "train_loss_list = [] # save the train loss\n",
    "test_loss_list = [] # save the test loss\n",
    "\n",
    "max_loss = 999999999\n",
    "patience_counter = 0"
   ]
  },
  {
   "cell_type": "code",
   "execution_count": 78,
   "metadata": {},
   "outputs": [
    {
     "name": "stderr",
     "output_type": "stream",
     "text": [
      " 18%|█▊        | 90/500 [00:25<01:56,  3.51it/s]"
     ]
    },
    {
     "name": "stdout",
     "output_type": "stream",
     "text": [
      "Early stopping triggered.\n"
     ]
    },
    {
     "name": "stderr",
     "output_type": "stream",
     "text": [
      "\n"
     ]
    },
    {
     "data": {
      "image/png": "[encoded data removed]",
      "text/plain": [
       "<Figure size 800x500 with 2 Axes>"
      ]
     },
     "metadata": {},
     "output_type": "display_data"
    }
   ],
   "source": [
    "for epoch in tqdm(range(1, epoch_+1)):\n",
    "    loss_list = []\n",
    "    model.train()\n",
    "    train_loss = 0.0 \n",
    "    for batch_idx, (data, target) in enumerate(train_dl):\n",
    "        \n",
    "        optimizer.zero_grad()\n",
    "        output = model(data)\n",
    "        loss = criterion(output, target)\n",
    "        loss.backward()\n",
    "        optimizer.step()\n",
    "        loss_list.append(loss.item())\n",
    "        \n",
    "    train_loss = np.mean(loss_list) \n",
    "    train_loss_list.append(train_loss) \n",
    "\n",
    "    model.eval()\n",
    "    with torch.no_grad():\n",
    "        test_loss_list_epoch = []\n",
    "        for data, target in test_dl:\n",
    "            output = model(data)\n",
    "            test_loss = criterion(output, target)\n",
    "            test_loss_list_epoch.append(test_loss.item())\n",
    "            \n",
    "        test_loss = np.mean(test_loss_list_epoch)\n",
    "        test_loss_list.append(test_loss)\n",
    "\n",
    "    if train_loss < max_loss:\n",
    "        torch.save(model.state_dict(), dir_path+f\"model_{version}.pth\")\n",
    "        max_loss = train_loss\n",
    "        # print(\"Train_loss={:.3f}, Test_loss={:.3f}, Model Saved\".format(train_loss, test_loss))\n",
    "        dlinear_best_epoch = epoch\n",
    "        dlinear_best_train_loss = train_loss\n",
    "        dlinear_best_test_loss = test_loss\n",
    "    else:\n",
    "        patience_counter += 1\n",
    "        # print(\"Train_loss={:.3f}, Test_loss={:.3f}, Patience: {}/{}\".format(train_loss, test_loss, patience_counter, patience))\n",
    "    \n",
    "    if patience_counter >= patience:\n",
    "        print(\"Early stopping triggered.\")\n",
    "        break\n",
    "    \n",
    "fig, ax1 = plt.subplots(figsize=(8, 5))\n",
    "epochs = range(1, len(train_loss_list) + 1)\n",
    "ax1.plot(epochs, train_loss_list, label='Train Loss', color='b')\n",
    "ax1.set_xlabel('Epochs')\n",
    "ax1.set_ylabel(\"Train Loss\",color='b')\n",
    "ax1.tick_params(axis='y', labelcolor='b')\n",
    "ax1.legend(loc=\"upper left\")\n",
    "# ax1.grid()\n",
    "ax2 = ax1.twinx()\n",
    "ax2.plot(epochs, test_loss_list, label='Test Loss',color='r')\n",
    "ax2.set_xlabel('Epochs')\n",
    "ax2.set_ylabel(\"Test Loss\",color='r')\n",
    "ax2.tick_params(axis='y', labelcolor='r')\n",
    "ax2.legend(loc=\"upper right\") \n",
    "# ax2.grid()\n",
    "plt.title('Train and Test Loss Over Epochs')\n",
    "fig.tight_layout()\n",
    "plt.show()\n",
    "    "
   ]
  },
  {
   "cell_type": "markdown",
   "metadata": {},
   "source": [
    "### Forecast"
   ]
  },
  {
   "cell_type": "code",
   "execution_count": null,
   "metadata": {},
   "outputs": [
    {
     "data": {
      "text/plain": [
       "<Figure size 2000x21600 with 0 Axes>"
      ]
     },
     "metadata": {},
     "output_type": "display_data"
    }
   ],
   "source": [
    "# Load model and Evaluate\n",
    "model.load_state_dict(torch.load(dir_path+f\"model_{version}.pth\"))\n",
    "model.eval()\n",
    "\n",
    "train_dl  = DataLoader(train_ds,  batch_size = len(train_df), shuffle=False)\n",
    "test_dl  = DataLoader(test_ds,  batch_size = len(test_df), shuffle=False)\n",
    "with torch.no_grad():\n",
    "    for data, target in train_dl:\n",
    "        train_output = model(data)\n",
    "        train_predicted = train_output[:, -1, :].cpu().numpy()  # Last timestep predictions\n",
    "        train_actual = target[:, -1, :].cpu().numpy()     # Last timestep actual values\n",
    "        train_dates = train_date[:, -1]                    # Dates corresponding to the last forecast\n",
    "    \n",
    "    for data, target in test_dl:\n",
    "        test_output = model(data)\n",
    "        test_predicted = test_output[:, -1, :].cpu().numpy()  # Last timestep predictions\n",
    "        test_actual = target[:, -1, :].cpu().numpy()     # Last timestep actual values\n",
    "        test_dates = test_date[:, -1]  \n",
    "    \n",
    "plt.figure(figsize=(20, len(columns_to_use) * 6))  # Adjust the figure size as needed\n",
    "for i in range(len(columns_to_use)):\n",
    "    idv_mean = mean_[columns_to_use[i]]\n",
    "    idv_std = std_[columns_to_use[i]]\n",
    "    \n",
    "    real = test_actual[:, i]*idv_std+idv_mean\n",
    "    pred = test_predicted[:, i]*idv_std+idv_mean\n",
    "    rmse = round(mean_squared_error(real, pred)**0.5,3)\n",
    "    mae = round(mean_absolute_error(real, pred),3)\n",
    "    if columns_to_use[i] in target_df.columns:\n",
    "        val = [columns_to_use[i].split(\"_\")[0], rmse, mae]\n",
    "        pd.DataFrame(val).T.to_csv(dir_path+f\"result_{version}.csv\", mode='a', header=False, index=False)\n",
    "        # pd.DataFrame(pred, columns = [columns_to_use[i].split(\"_\")[0]]).T.to_csv(dir_path+f\"pred_{version}.csv\", mode='a', header=False)\n",
    "    plt.subplot(len(columns_to_use), 1, i + 1)\n",
    "    plt.plot(df['Date'], df[columns_to_use[i]])\n",
    "    plt.plot(train_dates, train_actual[:, i]*idv_std+idv_mean, c=\"b\")\n",
    "    plt.plot(train_dates, train_predicted[:, i]*idv_std+idv_mean, linestyle='--', c=\"r\")\n",
    "    plt.axvline(x=test_dates[0], color='black', linestyle=':', linewidth=3,label=\"Test Start\")\n",
    "    plt.plot(test_dates, test_actual[:, i]*idv_std+idv_mean, label='Actual Data', c=\"b\")\n",
    "    plt.plot(test_dates, test_predicted[:, i]*idv_std+idv_mean, label='Predicted Data', linestyle='--', c=\"r\")\n",
    "    plt.title(f'Forecast vs Actuals for {columns_to_use[i]}')\n",
    "    plt.xlabel('Date')\n",
    "    plt.ylabel('Value')\n",
    "    plt.legend()"
   ]
  }
 ],
 "metadata": {
  "kernelspec": {
   "display_name": "cv2024",
   "language": "python",
   "name": "python3"
  },
  "language_info": {
   "codemirror_mode": {
    "name": "ipython",
    "version": 3
   },
   "file_extension": ".py",
   "mimetype": "text/x-python",
   "name": "python",
   "nbconvert_exporter": "python",
   "pygments_lexer": "ipython3",
   "version": "3.11.4"
  }
 },
 "nbformat": 4,
 "nbformat_minor": 2
}
