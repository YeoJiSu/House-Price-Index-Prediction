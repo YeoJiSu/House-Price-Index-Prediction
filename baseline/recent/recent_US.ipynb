{
 "cells": [
  {
   "cell_type": "markdown",
   "metadata": {},
   "source": [
    "### Import Library"
   ]
  },
  {
   "cell_type": "code",
   "execution_count": null,
   "metadata": {},
   "outputs": [],
   "source": [
    "%matplotlib inline\n",
    "import matplotlib.pyplot as plt\n",
    "plt.rcParams['axes.unicode_minus'] = False\n",
    "import torch\n",
    "import pandas as pd\n",
    "from argparse import Namespace\n",
    "from torch.utils.data import DataLoader\n",
    "\n",
    "import sys\n",
    "sys.path.insert(1, \"/Users/yeojisu/Documents/House-Price-Index-Prediction\")\n",
    "\n",
    "from utils.data_loader import *\n",
    "from utils.deep_learning import *\n",
    "from utils.visualization import * \n",
    "from config.config_US import *"
   ]
  },
  {
   "cell_type": "markdown",
   "metadata": {},
   "source": [
    "### Load Data"
   ]
  },
  {
   "cell_type": "code",
   "execution_count": 3,
   "metadata": {},
   "outputs": [],
   "source": [
    "target_df = load_target_data_us(TARGET_PATH)\n",
    "df = load_feature_data_us(FEATURE_PATH, FEATURE_COLUMN, TRAIN_DATE)\n",
    "df = pd.concat([df,target_df],axis = 1) \n",
    "for col in df.columns:\n",
    "    df[col] = pd.to_numeric(df[col], errors='coerce')\n",
    "df = df.dropna()\n",
    "\n",
    "date = 'Date'\n",
    "df = df.reset_index(names=date) \n",
    "df[date] = pd.to_datetime(df[date]) \n",
    "df.reset_index(drop=True, inplace=True)\n",
    "df.index.name = \"num\"\n"
   ]
  },
  {
   "cell_type": "markdown",
   "metadata": {},
   "source": [
    "### Choose Model: xPatch, CARD, Dlinear, Nlinear"
   ]
  },
  {
   "cell_type": "code",
   "execution_count": null,
   "metadata": {},
   "outputs": [],
   "source": [
    "\"\"\"\n",
    "    Must Choose Model\n",
    "    * DLinear\n",
    "    * NLinear\n",
    "    * xPatch\n",
    "    * CARD\n",
    "\"\"\"\n",
    "# from DLinear import Model\n",
    "from NLinear import Model\n",
    "# from xPatch import Model\n",
    "# from CARD import Model\n",
    "model_name = \"Nlinear\""
   ]
  },
  {
   "cell_type": "code",
   "execution_count": null,
   "metadata": {},
   "outputs": [],
   "source": [
    "### Experiment Setting\n",
    "window_size = WINDOW_SIZE\n",
    "forecast_size= FORECAST_HORIZON\n",
    "idx = df[df.Date == TEST_DATE].index[0]\n",
    "train_df = df[:idx]\n",
    "test_df = df[idx-(forecast_size+window_size):]\n",
    "test_df.reset_index(drop=True, inplace=True)\n",
    "test_df.index.name = \"num\"\n",
    "\n",
    "save_path  = os.path.join(DIR_PATH, f\"model{VERSION}.pth\")\n",
    "version = f\"{forecast_size}month_{model_name}\"\n",
    "columns_to_use = FEATURE_COLUMN + target_df.columns.tolist()\n",
    "\n",
    "batch_size = 16\n",
    "epoch_ = 500\n",
    "lr = 0.001\n",
    "former_lr = 0.0005\n",
    "patience = 20  # easrly stopping\n",
    "\n",
    "configs = Namespace( # Convert configs dictionary to Namespace\n",
    "    # Dlinear, Nlinear\n",
    "    seq_len=window_size,  # Set minimum input length to 1\n",
    "    pred_len=forecast_size,\n",
    "    individual=False, \n",
    "    enc_in= len(columns_to_use), # feature_size\n",
    "    \n",
    "    # xPatch\n",
    "    ker_len=25,                         # Kernel size\n",
    "    patch_len = 3,                      # Length of each patch\n",
    "    stride = 2,                         # Patch interval\n",
    "    padding_patch = 'end',\n",
    "    revin = True,\n",
    "    ma_type = 'ema',\n",
    "    alpha = 0.3,                        # EMA coefficient\n",
    "    beta = 0.3,\n",
    "    \n",
    "    # CARD\n",
    "    patch_size = 3,\n",
    "    d_model = 128,                      # Hidden dimension of the model\n",
    "    dropout = 0.1,                      # Dropout rate\n",
    "    e_layers = 4,                       # Number of encoder layers\n",
    "    n_heads = 8,                        # Number of heads in multi-head attention\n",
    "    use_statistic = True,               # Whether to use statistical values\n",
    "    total_token_number = 3,             # Total number of tokens\n",
    "    d_ff = 256,                         # Dimension of the feedforward network\n",
    "    momentum = 0.1,                     # Momentum for batch normalization\n",
    "    dp_rank = 16,                       # Rank of dynamic projection\n",
    "    merge_size = 4,                     # Merge size\n",
    "    \n",
    ")"
   ]
  },
  {
   "cell_type": "code",
   "execution_count": null,
   "metadata": {},
   "outputs": [],
   "source": [
    "model = Model(configs=configs)\n",
    "criterion = torch.nn.MSELoss()\n",
    "optimizer = torch.optim.Adam(model.parameters(), lr=lr) # CARD -> former_lr\n",
    "\n",
    "# Prepare Dataset\n",
    "train_df_fe, test_df_fe, mean_, std_ = standardization(train_df, test_df, date, columns_to_use)\n",
    "    \n",
    "train_x, train_y, train_date_list = time_slide_df(train_df_fe, window_size, forecast_size, date, columns_to_use)\n",
    "test_x, test_y, test_date_list = time_slide_df(test_df_fe, window_size, forecast_size, date, columns_to_use)\n",
    "    \n",
    "# Prepare DataLoader \n",
    "train_ds = Data(train_x, train_y)\n",
    "test_ds = Data(test_x, test_y)"
   ]
  },
  {
   "cell_type": "markdown",
   "metadata": {},
   "source": [
    "### Train"
   ]
  },
  {
   "cell_type": "code",
   "execution_count": null,
   "metadata": {},
   "outputs": [],
   "source": [
    "train_dl = DataLoader(train_ds, batch_size = batch_size, shuffle=False)\n",
    "test_dl  = DataLoader(test_ds,  batch_size = len(test_df), shuffle=False)\n",
    "# Train the model \n",
    "train_loss_list = [] # save the train loss\n",
    "test_loss_list = [] # save the test loss\n",
    "\n",
    "max_loss = 999999999\n",
    "patience_counter = 0\n",
    "\n",
    "train_loss_list, test_loss_list = train_deep_learning_model(model, train_dl, test_dl, criterion, optimizer, num_epochs, patience, save_path)\n",
    "plot_loss_curve(train_loss_list, test_loss_list)"
   ]
  },
  {
   "cell_type": "markdown",
   "metadata": {},
   "source": [
    "### Forecast"
   ]
  },
  {
   "cell_type": "code",
   "execution_count": null,
   "metadata": {},
   "outputs": [
    {
     "data": {
      "text/plain": [
       "<Figure size 2000x21600 with 0 Axes>"
      ]
     },
     "metadata": {},
     "output_type": "display_data"
    }
   ],
   "source": [
    "# Load model and Evaluate\n",
    "model.load_state_dict(torch.load(save_path))  # 최적 모델 로드\n",
    "model.eval()\n",
    "\n",
    "train_dl  = DataLoader(train_ds,  batch_size = len(train_df), shuffle=False)\n",
    "test_dl  = DataLoader(test_ds,  batch_size = len(test_df), shuffle=False)\n",
    "\n",
    "train_outputs, train_targets = evaluate_model(model, train_dl)\n",
    "test_outputs, test_targets   = evaluate_model(model, test_dl)\n",
    "\n",
    "train_predicted = train_outputs[:, -1, :].cpu().numpy()\n",
    "train_actual    = train_targets[:, -1, :].cpu().numpy()\n",
    "train_dates = train_date_list[:, -1] \n",
    "\n",
    "test_predicted  = test_outputs[:, -1, :].cpu().numpy()\n",
    "test_actual     = test_targets[:, -1, :].cpu().numpy()\n",
    "test_dates = test_date_list[:, -1] \n",
    "\n",
    "plot_draw_all_results(columns_to_use, mean_, std_, target_df.columns,\n",
    "                      DIR_PATH+f\"result_{version}.csv\", df, train_dates, train_actual, train_predicted,\n",
    "                      test_dates, test_actual, test_predicted)"
   ]
  }
 ],
 "metadata": {
  "kernelspec": {
   "display_name": "cv2024",
   "language": "python",
   "name": "python3"
  },
  "language_info": {
   "codemirror_mode": {
    "name": "ipython",
    "version": 3
   },
   "file_extension": ".py",
   "mimetype": "text/x-python",
   "name": "python",
   "nbconvert_exporter": "python",
   "pygments_lexer": "ipython3",
   "version": "3.11.4"
  }
 },
 "nbformat": 4,
 "nbformat_minor": 2
}
