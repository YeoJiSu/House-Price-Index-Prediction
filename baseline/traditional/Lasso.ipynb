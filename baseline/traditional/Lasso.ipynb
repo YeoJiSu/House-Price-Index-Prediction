{
 "cells": [
  {
   "cell_type": "markdown",
   "metadata": {},
   "source": [
    "### Import Library"
   ]
  },
  {
   "cell_type": "code",
   "execution_count": 2,
   "metadata": {},
   "outputs": [],
   "source": [
    "%matplotlib inline\n",
    "import matplotlib.pyplot as plt\n",
    "plt.rcParams['axes.unicode_minus'] = False\n",
    "import pandas as pd\n",
    "import matplotlib.pyplot as plt\n",
    "from sklearn.metrics import mean_squared_error,mean_absolute_error\n",
    "from sklearn.linear_model import Lasso\n",
    "\n",
    "import sys\n",
    "sys.path.insert(1, \"/Users/yeojisu/Documents/House-Price-Index-Prediction\")\n",
    "\n",
    "from utils.data_loader import *\n",
    "from config.config_KR import *"
   ]
  },
  {
   "cell_type": "markdown",
   "metadata": {},
   "source": [
    "### Load Data"
   ]
  },
  {
   "cell_type": "code",
   "execution_count": null,
   "metadata": {},
   "outputs": [],
   "source": [
    "target_df = load_target_data(TARGET_PATH)\n",
    "df = load_feature_data(FEATURE_PATH, FEATURE_COLUMN, TRAIN_DATE)\n",
    "\n",
    "df = df.shift(FORECAST_HORIZON) # Feature - shift 3\n",
    "for col in FEATURE_COLUMN:\n",
    "    df[f'{col}_lag{FORECAST_HORIZON+1}'] = df[col].shift(FORECAST_HORIZON+1) # Feature - shift 4\n",
    "for col in FEATURE_COLUMN:\n",
    "    df[f'{col}_lag{FORECAST_HORIZON+2}'] = df[col].shift(FORECAST_HORIZON+2) # Feature - shift 5\n",
    "for col in target_df.columns:\n",
    "    df[f'{col}_lag{FORECAST_HORIZON}'] = target_df[col].shift(FORECAST_HORIZON) # Target - shift 3\n",
    "for col in target_df.columns:\n",
    "    df[f'{col}_lag{FORECAST_HORIZON+1}'] = target_df[col].shift(FORECAST_HORIZON+1) # Target - shift 4\n",
    "for col in target_df.columns:\n",
    "    df[f'{col}_lag{FORECAST_HORIZON+2}'] = target_df[col].shift(FORECAST_HORIZON+2) # Target - shift 5\n",
    "    \n",
    "df = pd.concat([df,target_df], axis = 1)\n",
    "for col in df.columns:\n",
    "    df[col] = pd.to_numeric(df[col], errors='coerce')\n",
    "df = df.dropna()"
   ]
  },
  {
   "cell_type": "markdown",
   "metadata": {},
   "source": [
    "### Train and forecast"
   ]
  },
  {
   "cell_type": "code",
   "execution_count": null,
   "metadata": {},
   "outputs": [],
   "source": [
    "model_name = \"Lasso\"\n",
    "dir_path = f\"/Users/yeojisu/Documents/HPI-Save/Korea/Baseline/traditional/{FORECAST_HORIZON}_{model_name}.csv\"\n",
    "\n",
    "for target in target_df.columns:\n",
    "    x_df = df.drop(target_df.columns,axis=1)\n",
    "    y_df = df[target]\n",
    "\n",
    "    # Split Train and Test Data\n",
    "    X_train, X_test, y_train, y_test = x_df[x_df.index<TEST_DATE], x_df[x_df.index>=TEST_DATE], y_df[y_df.index<TEST_DATE], y_df[y_df.index>=TEST_DATE]\n",
    "\n",
    "    # Scaling\n",
    "    x_df_mu, x_df_std = X_train.mean(), X_train.std()\n",
    "    y_df_mu, y_df_std = y_train.mean(), y_train.std()\n",
    "\n",
    "    X_train = z_transform(X_train, x_df_mu, x_df_std)\n",
    "    X_test = z_transform(X_test, x_df_mu, x_df_std)\n",
    "    y_train = z_transform(y_train, y_df_mu, y_df_std)\n",
    "    y_test = z_transform(y_test, y_df_mu, y_df_std)\n",
    "\n",
    "    df_train_inv = pd.concat([pd.DataFrame(y_train), X_train], axis=1)\n",
    "    df_test_inv = pd.concat([pd.DataFrame(y_test), X_test], axis=1)\n",
    "    \n",
    "    model = Lasso(alpha=0.1)\n",
    "    model.fit(X=X_train, y=y_train)\n",
    "    pred_z = model.predict(X_test)\n",
    "    pred = inv_z_transform(pred_z, y_df_mu, y_df_std)\n",
    "    real = inv_z_transform(y_test, y_df_mu, y_df_std)\n",
    "    rmse = round(mean_squared_error(real, pred)**0.5,3)\n",
    "    mae = round(mean_absolute_error(real, pred),3)\n",
    "    val =[target.split(\"_\")[0],rmse,mae]\n",
    "    \n",
    "    pd.DataFrame(val).T.to_csv(dir_path, mode='a', header=False, index=False)\n",
    "    "
   ]
  }
 ],
 "metadata": {
  "kernelspec": {
   "display_name": "cv2024",
   "language": "python",
   "name": "python3"
  },
  "language_info": {
   "codemirror_mode": {
    "name": "ipython",
    "version": 3
   },
   "file_extension": ".py",
   "mimetype": "text/x-python",
   "name": "python",
   "nbconvert_exporter": "python",
   "pygments_lexer": "ipython3",
   "version": "3.11.4"
  }
 },
 "nbformat": 4,
 "nbformat_minor": 2
}
